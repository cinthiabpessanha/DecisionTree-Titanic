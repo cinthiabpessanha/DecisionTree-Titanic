{
 "cells": [
  {
   "cell_type": "code",
   "execution_count": 174,
   "metadata": {},
   "outputs": [
    {
     "data": {
      "text/html": [
       "<b>Dirs</b>"
      ],
      "text/plain": [
       "<IPython.core.display.HTML object>"
      ]
     },
     "metadata": {},
     "output_type": "display_data"
    },
    {
     "name": "stdout",
     "output_type": "stream",
     "text": [
      "['gender_submission.csv', 'test.csv', 'train.csv']\n"
     ]
    },
    {
     "data": {
      "text/html": [
       "<b>Importing data</b>"
      ],
      "text/plain": [
       "<IPython.core.display.HTML object>"
      ]
     },
     "metadata": {},
     "output_type": "display_data"
    }
   ],
   "source": [
    "from IPython.core.display import display, HTML\n",
    "import pandas as pd\n",
    "import os\n",
    "\n",
    "display(HTML('<b>Dirs</b>'))\n",
    "print(os.listdir(\"datasets\"))\n",
    "\n",
    "display(HTML('<b>Importing data</b>'))"
   ]
  },
  {
   "cell_type": "code",
   "execution_count": 175,
   "metadata": {},
   "outputs": [
    {
     "data": {
      "text/html": [
       "<b>Removing useless features</b>"
      ],
      "text/plain": [
       "<IPython.core.display.HTML object>"
      ]
     },
     "metadata": {},
     "output_type": "display_data"
    }
   ],
   "source": [
    "\n",
    "\n",
    "folder = \"datasets\"\n",
    "\n",
    "passengers_df = pd.read_csv(folder + \"\\\\gender_submission.csv\")\n",
    "train_df = pd.read_csv(folder + \"\\\\train.csv\")\n",
    "tests_df = pd.read_csv(folder + \"\\\\test.csv\")\n",
    "\n",
    "display(HTML('<b>Removing useless features</b>'))"
   ]
  },
  {
   "cell_type": "code",
   "execution_count": 176,
   "metadata": {},
   "outputs": [
    {
     "name": "stdout",
     "output_type": "stream",
     "text": [
      "     Pclass     Sex   Age  SibSp  Parch      Fare Embarked\n",
      "0         3    male  34.5      0      0    7.8292        Q\n",
      "1         3  female  47.0      1      0    7.0000        S\n",
      "2         2    male  62.0      0      0    9.6875        Q\n",
      "3         3    male  27.0      0      0    8.6625        S\n",
      "4         3  female  22.0      1      1   12.2875        S\n",
      "5         3    male  14.0      0      0    9.2250        S\n",
      "6         3  female  30.0      0      0    7.6292        Q\n",
      "7         2    male  26.0      1      1   29.0000        S\n",
      "8         3  female  18.0      0      0    7.2292        C\n",
      "9         3    male  21.0      2      0   24.1500        S\n",
      "10        3    male   NaN      0      0    7.8958        S\n",
      "11        1    male  46.0      0      0   26.0000        S\n",
      "12        1  female  23.0      1      0   82.2667        S\n",
      "13        2    male  63.0      1      0   26.0000        S\n",
      "14        1  female  47.0      1      0   61.1750        S\n",
      "15        2  female  24.0      1      0   27.7208        C\n",
      "16        2    male  35.0      0      0   12.3500        Q\n",
      "17        3    male  21.0      0      0    7.2250        C\n",
      "18        3  female  27.0      1      0    7.9250        S\n",
      "19        3  female  45.0      0      0    7.2250        C\n",
      "20        1    male  55.0      1      0   59.4000        C\n",
      "21        3    male   9.0      0      1    3.1708        S\n",
      "22        1  female   NaN      0      0   31.6833        S\n",
      "23        1    male  21.0      0      1   61.3792        C\n",
      "24        1  female  48.0      1      3  262.3750        C\n",
      "25        3    male  50.0      1      0   14.5000        S\n",
      "26        1  female  22.0      0      1   61.9792        C\n",
      "27        3    male  22.5      0      0    7.2250        C\n",
      "28        1    male  41.0      0      0   30.5000        S\n",
      "29        3    male   NaN      2      0   21.6792        C\n",
      "..      ...     ...   ...    ...    ...       ...      ...\n",
      "388       3    male  21.0      0      0    7.7500        Q\n",
      "389       3    male   6.0      3      1   21.0750        S\n",
      "390       1    male  23.0      0      0   93.5000        S\n",
      "391       1  female  51.0      0      1   39.4000        S\n",
      "392       3    male  13.0      0      2   20.2500        S\n",
      "393       2    male  47.0      0      0   10.5000        S\n",
      "394       3    male  29.0      3      1   22.0250        S\n",
      "395       1  female  18.0      1      0   60.0000        S\n",
      "396       3    male  24.0      0      0    7.2500        Q\n",
      "397       1  female  48.0      1      1   79.2000        C\n",
      "398       3    male  22.0      0      0    7.7750        S\n",
      "399       3    male  31.0      0      0    7.7333        Q\n",
      "400       1  female  30.0      0      0  164.8667        S\n",
      "401       2    male  38.0      1      0   21.0000        S\n",
      "402       1  female  22.0      0      1   59.4000        C\n",
      "403       1    male  17.0      0      0   47.1000        S\n",
      "404       1    male  43.0      1      0   27.7208        C\n",
      "405       2    male  20.0      0      0   13.8625        C\n",
      "406       2    male  23.0      1      0   10.5000        S\n",
      "407       1    male  50.0      1      1  211.5000        C\n",
      "408       3  female   NaN      0      0    7.7208        Q\n",
      "409       3  female   3.0      1      1   13.7750        S\n",
      "410       3  female   NaN      0      0    7.7500        Q\n",
      "411       1  female  37.0      1      0   90.0000        Q\n",
      "412       3  female  28.0      0      0    7.7750        S\n",
      "413       3    male   NaN      0      0    8.0500        S\n",
      "414       1  female  39.0      0      0  108.9000        C\n",
      "415       3    male  38.5      0      0    7.2500        S\n",
      "416       3    male   NaN      0      0    8.0500        S\n",
      "417       3    male   NaN      1      1   22.3583        C\n",
      "\n",
      "[418 rows x 7 columns]\n"
     ]
    }
   ],
   "source": [
    "train_df.drop('Ticket', axis=1, inplace=True)\n",
    "train_df.drop('Cabin', axis=1, inplace=True)\n",
    "train_df.drop('Name', axis=1, inplace=True)\n",
    "train_df.drop('PassengerId', axis=1, inplace=True)\n",
    "\n",
    "tests_df.drop('Ticket', axis=1, inplace=True)\n",
    "tests_df.drop('Cabin', axis=1, inplace=True)\n",
    "tests_df.drop('Name', axis=1, inplace=True)\n",
    "tests_df.drop('PassengerId', axis=1, inplace=True)\n",
    "\n",
    "print(tests_df)"
   ]
  },
  {
   "cell_type": "code",
   "execution_count": 177,
   "metadata": {},
   "outputs": [
    {
     "name": "stdout",
     "output_type": "stream",
     "text": [
      "Survived      0\n",
      "Pclass        0\n",
      "Sex           0\n",
      "Age         177\n",
      "SibSp         0\n",
      "Parch         0\n",
      "Fare          0\n",
      "Embarked      2\n",
      "dtype: int64\n",
      "Pclass       0\n",
      "Sex          0\n",
      "Age         86\n",
      "SibSp        0\n",
      "Parch        0\n",
      "Fare         1\n",
      "Embarked     0\n",
      "dtype: int64\n"
     ]
    }
   ],
   "source": [
    "print(train_df.isnull().sum())\n",
    "print(tests_df.isnull().sum())\n"
   ]
  },
  {
   "cell_type": "code",
   "execution_count": 178,
   "metadata": {},
   "outputs": [
    {
     "data": {
      "text/html": [
       "<b>Problem! There are several records with age missing. The approach chosen to deal with it is just for test purpose. There are much more sophisticated techniques to predict a missing value </b>"
      ],
      "text/plain": [
       "<IPython.core.display.HTML object>"
      ]
     },
     "metadata": {},
     "output_type": "display_data"
    }
   ],
   "source": [
    "display(HTML('<b>Problem! There are several records with age missing. The approach chosen to deal with it is just for test purpose. There are much more sophisticated techniques to predict a missing value </b>'))"
   ]
  },
  {
   "cell_type": "code",
   "execution_count": 179,
   "metadata": {},
   "outputs": [],
   "source": [
    "import numpy as np\n",
    "\n",
    "train_df['Age'].fillna(0,inplace=True) \n",
    "tests_df['Age'].fillna(0,inplace=True)\n",
    "\n",
    "age_df = pd.concat([train_df['Age'], tests_df['Age']])\n",
    "mean = age_df.mean()\n",
    "std = age_df.std()\n",
    "\n",
    "train_df['Age'] = np.where(train_df['Age'] == 0, (np.random.randint(mean - std,mean + std)), train_df['Age'])\n",
    "tests_df['Age'] = np.where(tests_df['Age'] == 0, (np.random.randint(mean - std,mean + std)), tests_df['Age'])"
   ]
  },
  {
   "cell_type": "code",
   "execution_count": 180,
   "metadata": {
    "scrolled": true
   },
   "outputs": [
    {
     "data": {
      "text/html": [
       "<b>Checking if all passengers has an age </b>"
      ],
      "text/plain": [
       "<IPython.core.display.HTML object>"
      ]
     },
     "metadata": {},
     "output_type": "display_data"
    },
    {
     "name": "stdout",
     "output_type": "stream",
     "text": [
      "0\n",
      "0\n"
     ]
    }
   ],
   "source": [
    "display(HTML('<b>Checking if all passengers has an age </b>'))\n",
    "print(train_df['Age'].isnull().sum())\n",
    "print(tests_df['Age'].isnull().sum())"
   ]
  },
  {
   "cell_type": "code",
   "execution_count": 181,
   "metadata": {},
   "outputs": [
    {
     "data": {
      "text/html": [
       "<b>Checking age distribution </b>"
      ],
      "text/plain": [
       "<IPython.core.display.HTML object>"
      ]
     },
     "metadata": {},
     "output_type": "display_data"
    },
    {
     "data": {
      "image/png": "[encoded data removed]",
      "text/plain": [
       "<Figure size 432x288 with 1 Axes>"
      ]
     },
     "metadata": {
      "needs_background": "light"
     },
     "output_type": "display_data"
    }
   ],
   "source": [
    "display(HTML('<b>Checking age distribution </b>'))\n",
    "\n",
    "import matplotlib.pyplot as plt\n",
    "plt.hist(train_df['Age'],bins = 10)\n",
    "plt.xlabel('Age')\n",
    "plt.ylabel('Count')\n",
    "plt.title('Distribution of Age')\n",
    "plt.show()"
   ]
  },
  {
   "cell_type": "code",
   "execution_count": 182,
   "metadata": {},
   "outputs": [
    {
     "data": {
      "text/html": [
       "<b>Checking Embark data </b>"
      ],
      "text/plain": [
       "<IPython.core.display.HTML object>"
      ]
     },
     "metadata": {},
     "output_type": "display_data"
    },
    {
     "data": {
      "image/png": "[encoded data removed]",
      "text/plain": [
       "<Figure size 360x360 with 1 Axes>"
      ]
     },
     "metadata": {
      "needs_background": "light"
     },
     "output_type": "display_data"
    }
   ],
   "source": [
    "display(HTML('<b>Checking Embark data </b>'))\n",
    "\n",
    "import matplotlib.pyplot as plt\n",
    "import seaborn as sns\n",
    "\n",
    "sns.catplot(x=\"Embarked\", kind=\"count\", palette=\"ch:.23\", data=train_df);"
   ]
  },
  {
   "cell_type": "code",
   "execution_count": 183,
   "metadata": {},
   "outputs": [
    {
     "data": {
      "text/html": [
       "<b> As cathegory \"S\" is the most common embark place, we will fill as \"S\" the empty Embark information of the 2 passengers who have this data missing </b>"
      ],
      "text/plain": [
       "<IPython.core.display.HTML object>"
      ]
     },
     "metadata": {},
     "output_type": "display_data"
    }
   ],
   "source": [
    "display(HTML('<b> As cathegory \"S\" is the most common embark place, we will fill as \"S\" the empty Embark information of the 2 passengers who have this data missing </b>'))"
   ]
  },
  {
   "cell_type": "code",
   "execution_count": 184,
   "metadata": {},
   "outputs": [
    {
     "name": "stdout",
     "output_type": "stream",
     "text": [
      "0\n"
     ]
    }
   ],
   "source": [
    "top = 'S'\n",
    "train_df['Embarked'].fillna(top,inplace=True) \n",
    "print(train_df['Embarked'].isnull().sum())\n",
    "\n",
    "\n"
   ]
  },
  {
   "cell_type": "code",
   "execution_count": 195,
   "metadata": {},
   "outputs": [
    {
     "data": {
      "text/html": [
       "<b> Encoding category columns  </b>"
      ],
      "text/plain": [
       "<IPython.core.display.HTML object>"
      ]
     },
     "metadata": {},
     "output_type": "display_data"
    },
    {
     "name": "stdout",
     "output_type": "stream",
     "text": [
      "     Survived  Pclass  Sex   Age  SibSp  Parch      Fare  Embarked\n",
      "0           0       3    0  22.0      1      0    7.2500         2\n",
      "1           1       1    1  38.0      1      0   71.2833         0\n",
      "2           1       3    1  26.0      0      0    7.9250         2\n",
      "3           1       1    1  35.0      1      0   53.1000         2\n",
      "4           0       3    0  35.0      0      0    8.0500         2\n",
      "5           0       3    0  20.0      0      0    8.4583         1\n",
      "6           0       1    0  54.0      0      0   51.8625         2\n",
      "7           0       3    0   2.0      3      1   21.0750         2\n",
      "8           1       3    1  27.0      0      2   11.1333         2\n",
      "9           1       2    1  14.0      1      0   30.0708         0\n",
      "10          1       3    1   4.0      1      1   16.7000         2\n",
      "11          1       1    1  58.0      0      0   26.5500         2\n",
      "12          0       3    0  20.0      0      0    8.0500         2\n",
      "13          0       3    0  39.0      1      5   31.2750         2\n",
      "14          0       3    1  14.0      0      0    7.8542         2\n",
      "15          1       2    1  55.0      0      0   16.0000         2\n",
      "16          0       3    0   2.0      4      1   29.1250         1\n",
      "17          1       2    0  20.0      0      0   13.0000         2\n",
      "18          0       3    1  31.0      1      0   18.0000         2\n",
      "19          1       3    1  20.0      0      0    7.2250         0\n",
      "20          0       2    0  35.0      0      0   26.0000         2\n",
      "21          1       2    0  34.0      0      0   13.0000         2\n",
      "22          1       3    1  15.0      0      0    8.0292         1\n",
      "23          1       1    0  28.0      0      0   35.5000         2\n",
      "24          0       3    1   8.0      3      1   21.0750         2\n",
      "25          1       3    1  38.0      1      5   31.3875         2\n",
      "26          0       3    0  20.0      0      0    7.2250         0\n",
      "27          0       1    0  19.0      3      2  263.0000         2\n",
      "28          1       3    1  20.0      0      0    7.8792         1\n",
      "29          0       3    0  20.0      0      0    7.8958         2\n",
      "..        ...     ...  ...   ...    ...    ...       ...       ...\n",
      "861         0       2    0  21.0      1      0   11.5000         2\n",
      "862         1       1    1  48.0      0      0   25.9292         2\n",
      "863         0       3    1  20.0      8      2   69.5500         2\n",
      "864         0       2    0  24.0      0      0   13.0000         2\n",
      "865         1       2    1  42.0      0      0   13.0000         2\n",
      "866         1       2    1  27.0      1      0   13.8583         0\n",
      "867         0       1    0  31.0      0      0   50.4958         2\n",
      "868         0       3    0  20.0      0      0    9.5000         2\n",
      "869         1       3    0   4.0      1      1   11.1333         2\n",
      "870         0       3    0  26.0      0      0    7.8958         2\n",
      "871         1       1    1  47.0      1      1   52.5542         2\n",
      "872         0       1    0  33.0      0      0    5.0000         2\n",
      "873         0       3    0  47.0      0      0    9.0000         2\n",
      "874         1       2    1  28.0      1      0   24.0000         0\n",
      "875         1       3    1  15.0      0      0    7.2250         0\n",
      "876         0       3    0  20.0      0      0    9.8458         2\n",
      "877         0       3    0  19.0      0      0    7.8958         2\n",
      "878         0       3    0  20.0      0      0    7.8958         2\n",
      "879         1       1    1  56.0      0      1   83.1583         0\n",
      "880         1       2    1  25.0      0      1   26.0000         2\n",
      "881         0       3    0  33.0      0      0    7.8958         2\n",
      "882         0       3    1  22.0      0      0   10.5167         2\n",
      "883         0       2    0  28.0      0      0   10.5000         2\n",
      "884         0       3    0  25.0      0      0    7.0500         2\n",
      "885         0       3    1  39.0      0      5   29.1250         1\n",
      "886         0       2    0  27.0      0      0   13.0000         2\n",
      "887         1       1    1  19.0      0      0   30.0000         2\n",
      "888         0       3    1  20.0      1      2   23.4500         2\n",
      "889         1       1    0  26.0      0      0   30.0000         0\n",
      "890         0       3    0  32.0      0      0    7.7500         1\n",
      "\n",
      "[891 rows x 8 columns]\n"
     ]
    },
    {
     "data": {
      "text/html": [
       "<b> Creating variables to feed the model  </b>"
      ],
      "text/plain": [
       "<IPython.core.display.HTML object>"
      ]
     },
     "metadata": {},
     "output_type": "display_data"
    }
   ],
   "source": [
    "display(HTML('<b> Encoding category columns  </b>'))\n",
    "\n",
    "\n",
    "embarked = {\"C\":0,\"Q\":1,\"S\":2} \n",
    "\n",
    "train_df['Sex'] = train_df['Sex'].replace('male', 0)\n",
    "train_df['Sex'] = train_df['Sex'].replace('female', 1)\n",
    "\n",
    "train_df['Embarked'] = train_df['Embarked'].replace('C', 0)\n",
    "train_df['Embarked'] = train_df['Embarked'].replace('Q', 1)\n",
    "train_df['Embarked'] = train_df['Embarked'].replace('S', 2)\n",
    "\n",
    "\n",
    "print(train_df)\n",
    "\n",
    "display(HTML('<b> Creating variables to feed the model  </b>'))"
   ]
  },
  {
   "cell_type": "code",
   "execution_count": 220,
   "metadata": {},
   "outputs": [],
   "source": [
    "from sklearn.model_selection import train_test_split\n",
    "\n",
    "X_train_total = train_df.drop('Survived',axis = 1)\n",
    "y_train_total = train_df['Survived']\n",
    "\n",
    "x_train, x_test, y_train, y_test = train_test_split(X_train_total, y_train_total, test_size=0.2, random_state=120)\n"
   ]
  },
  {
   "cell_type": "code",
   "execution_count": 221,
   "metadata": {},
   "outputs": [
    {
     "data": {
      "text/html": [
       "<b> Creating Decision tree model  </b>"
      ],
      "text/plain": [
       "<IPython.core.display.HTML object>"
      ]
     },
     "metadata": {},
     "output_type": "display_data"
    },
    {
     "name": "stdout",
     "output_type": "stream",
     "text": [
      "['Pclass', 'Sex', 'Age', 'SibSp', 'Parch', 'Fare', 'Embarked']\n"
     ]
    }
   ],
   "source": [
    "\n",
    "display(HTML('<b> Creating Decision tree model  </b>'))\n",
    "print(list(x_train))"
   ]
  },
  {
   "cell_type": "code",
   "execution_count": 246,
   "metadata": {},
   "outputs": [],
   "source": [
    "from sklearn import tree\n",
    "from graphviz import Source\n",
    "from sklearn.tree import export_graphviz\n",
    "from sklearn.externals import joblib\n",
    "\n",
    "\n",
    "\n",
    "decision_tree = tree.DecisionTreeClassifier(max_depth=3)\n",
    "\n",
    "decision_tree = decision_tree.fit(x_train,y_train)"
   ]
  },
  {
   "cell_type": "code",
   "execution_count": 247,
   "metadata": {},
   "outputs": [
    {
     "data": {
      "text/plain": [
       "'test.pdf'"
      ]
     },
     "execution_count": 247,
     "metadata": {},
     "output_type": "execute_result"
    }
   ],
   "source": [
    "dot_data = tree.export_graphviz(decision_tree, feature_names = list(X_train),class_names = ['Died', 'Survived'],out_file = None ) \n",
    "graph = Source(dot_data) \n",
    "graph.render(\"test\")"
   ]
  },
  {
   "cell_type": "code",
   "execution_count": 248,
   "metadata": {},
   "outputs": [
    {
     "data": {
      "text/html": [
       "<b> Calculating cross validation  for decision tree</b>"
      ],
      "text/plain": [
       "<IPython.core.display.HTML object>"
      ]
     },
     "metadata": {},
     "output_type": "display_data"
    },
    {
     "name": "stdout",
     "output_type": "stream",
     "text": [
      "[0.83333333 0.83333333 0.77777778 0.83333333 0.83333333 0.66666667\n",
      " 0.83333333 0.72222222 0.61111111 0.70588235]\n",
      "Accuracy of  79.88826815642457\n"
     ]
    }
   ],
   "source": [
    "display(HTML('<b> Calculating cross validation  for decision tree</b>'))\n",
    "\n",
    "from sklearn.model_selection import cross_val_score\n",
    "from sklearn.metrics import accuracy_score\n",
    "\n",
    "print(cross_val_score(decision_tree, x_test, y_test, cv = 10)) \n",
    "pred = decision_tree.predict(x_test)\n",
    "print('Accuracy of ', accuracy_score(pred, y_test)*100)"
   ]
  },
  {
   "cell_type": "code",
   "execution_count": 250,
   "metadata": {},
   "outputs": [
    {
     "data": {
      "text/html": [
       "<b> Calculating cross validation  for Random Forest</b>"
      ],
      "text/plain": [
       "<IPython.core.display.HTML object>"
      ]
     },
     "metadata": {},
     "output_type": "display_data"
    },
    {
     "name": "stdout",
     "output_type": "stream",
     "text": [
      "[0.83333333 0.77777778 0.72222222 0.88888889 0.88888889 0.72222222\n",
      " 0.83333333 0.77777778 0.88888889 0.76470588]\n",
      "Accuracy of  81.00558659217877\n"
     ]
    }
   ],
   "source": [
    "display(HTML('<b> Calculating cross validation  for Random Forest</b>'))\n",
    "from sklearn.ensemble import RandomForestClassifier\n",
    "\n",
    "\n",
    "clf = RandomForestClassifier(n_estimators = 9)\n",
    "model_rf = clf.fit(x_train, y_train) \n",
    "\n",
    "print(cross_val_score(model_rf, x_test, y_test, cv = 10)) \n",
    "pred = model.predict(x_test)\n",
    "print('Accuracy of ', accuracy_score(pred, y_test)*100)"
   ]
  },
  {
   "cell_type": "code",
   "execution_count": null,
   "metadata": {},
   "outputs": [],
   "source": []
  }
 ],
 "metadata": {
  "kernelspec": {
   "display_name": "Python 3",
   "language": "python",
   "name": "python3"
  },
  "language_info": {
   "codemirror_mode": {
    "name": "ipython",
    "version": 3
   },
   "file_extension": ".py",
   "mimetype": "text/x-python",
   "name": "python",
   "nbconvert_exporter": "python",
   "pygments_lexer": "ipython3",
   "version": "3.7.3"
  }
 },
 "nbformat": 4,
 "nbformat_minor": 2
}
